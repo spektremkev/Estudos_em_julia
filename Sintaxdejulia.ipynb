{
 "cells": [
  {
   "cell_type": "markdown",
   "metadata": {},
   "source": [
    "Para instalar múltiplas linguagens no Jupyter Notebook, você pode usar o Anaconda, que é uma plataforma de ciência de dados que facilita a instalação de pacotes e a criação de ambientes de trabalho. Aqui estão os passos para instalar várias linguagens, incluindo Python, R e Julia, no Jupyter Notebook:\n",
    "\n",
    "- Instale o Anaconda: Primeiro, você precisa instalar o Anaconda em seu sistema. O Anaconda é uma distribuição de Python e R para computação científica e pode ser baixado do site oficial do Anaconda.\n",
    "- Instale a linguagem desejada: Depois de instalar o Anaconda, você pode instalar a linguagem desejada. Por exemplo, para instalar o R, você pode usar o comando conda install -c r r-essentials no terminal. Este comando instala o pacote \"R Essentials\", que inclui os principais pacotes de R, como dplyr, ggplot2 e tidyr.\n",
    "- Use a linguagem no Jupyter Notebook: Depois de instalar a linguagem, você pode usá-la no Jupyter Notebook. Se você instalou o R em seu ambiente atual, basta abrir o Jupyter Notebook e verá a linguagem R disponível. Se você instalou o R em um novo ambiente, você precisará ativar esse ambiente antes de abrir o Jupyter Notebook. Isso pode ser feito com os comandos conda activate r_env e jupyter notebook.\n",
    "\n",
    "Além disso, para usar várias linguagens em um único notebook Jupyter, você pode usar pacotes como IPYStata para Stata e rpy2 para R. O IPYStata pode ser instalado com o comando pip install ipystata e usado com o comando mágico %%stata. O rpy2 pode ser instalado com o comando pip install rpy2 e importado com import rpy2.robjects as robjects.\n",
    "\n"
   ]
  },
  {
   "cell_type": "code",
   "execution_count": null,
   "metadata": {},
   "outputs": [],
   "source": [
    "import pandas as pd\n",
    "import numpy as np\n",
    "\n",
    "n = 10000\n",
    "\n",
    "df = pd.DataFrame({'x': np.random.choice(['A', 'B', 'C', 'D'], n, replace=True),\n",
    "                   'y': np.random.rand(n),\n",
    "                   'z': np.random.randn(n)})\n",
    "\n",
    "%timeit df.groupby('x').agg({'y': 'median', 'z': 'mean'})"
   ]
  },
  {
   "cell_type": "markdown",
   "metadata": {},
   "source": []
  },
  {
   "cell_type": "code",
   "execution_count": 1,
   "metadata": {},
   "outputs": [
    {
     "data": {
      "text/plain": [
       "gradient_descent (generic function with 1 method)"
      ]
     },
     "metadata": {},
     "output_type": "display_data"
    }
   ],
   "source": [
    "using Statistics, LinearAlgebra\n",
    "\n",
    "function gradient_descent(𝒟train, φ, ∇loss; η=0.1, T=100)\n",
    "    𝐰 = zeros(length(φ(𝒟train[1][1])))\n",
    "    for t in 1:T\n",
    "        𝐰 = 𝐰 .- η * mean(∇loss(x, y, 𝐰, φ) for (x,y) ∈ 𝒟train)\n",
    "    end\n",
    "    return 𝐰\n",
    "end\n"
   ]
  }
 ],
 "metadata": {
  "kernelspec": {
   "display_name": "Julia 1.9.4",
   "language": "julia",
   "name": "julia-1.9"
  },
  "language_info": {
   "file_extension": ".jl",
   "mimetype": "application/julia",
   "name": "julia",
   "version": "1.9.4"
  }
 },
 "nbformat": 4,
 "nbformat_minor": 2
}
